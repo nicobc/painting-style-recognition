{
 "cells": [
  {
   "cell_type": "markdown",
   "metadata": {},
   "source": [
    "# Modeling\n",
    "This notebook shows how I trained the model I use in my painting style recognition [app](http://www.nicolascontreras.tech/portfolio/painting_reco)."
   ]
  },
  {
   "cell_type": "markdown",
   "metadata": {},
   "source": [
    "# 1. Imports"
   ]
  },
  {
   "cell_type": "code",
   "execution_count": null,
   "metadata": {},
   "outputs": [],
   "source": [
    "import pandas as pd\n",
    "import numpy as np\n",
    "import matplotlib.pyplot as plt\n",
    "from seaborn import despine\n",
    "\n",
    "from PIL import Image, ImageFile\n",
    "ImageFile.LOAD_TRUNCATED_IMAGES = True\n",
    "\n",
    "from glob import glob\n",
    "from tqdm import tqdm\n",
    "import os\n",
    "import pickle\n",
    "\n",
    "import tensorflow as tf"
   ]
  },
  {
   "cell_type": "markdown",
   "metadata": {},
   "source": [
    "# 2. ImageDataGenerator"
   ]
  },
  {
   "cell_type": "code",
   "execution_count": null,
   "metadata": {},
   "outputs": [],
   "source": [
    "def get_ImageDataGenerator():\n",
    "    return tf.keras.preprocessing.image.ImageDataGenerator(\n",
    "        preprocessing_function=tf.keras.applications.inception_v3.preprocess_input,\n",
    "        rotation_range=30, brightness_range=(.75, 1.25), horizontal_flip=True\n",
    "    )\n",
    "\n",
    "def get_generator(image_data_generator, directory, seed=None):\n",
    "    return image_data_generator.flow_from_directory(directory=directory,\n",
    "                                                    batch_size=20,\n",
    "                                                    target_size=(299, 299),\n",
    "                                                    class_mode='categorical',\n",
    "                                                    seed=seed)"
   ]
  },
  {
   "cell_type": "code",
   "execution_count": null,
   "metadata": {},
   "outputs": [],
   "source": [
    "# Instanciate generator\n",
    "img_gen = get_ImageDataGenerator()\n",
    "\n",
    "# Set dir paths for train & valid data\n",
    "train_path = os.path.join('data', 'train')\n",
    "valid_path = os.path.join('data', 'valid')\n",
    "\n",
    "# Flow generators from dir paths\n",
    "train_generator = get_generator(img_gen, train_path)\n",
    "valid_generator = get_generator(img_gen, valid_path)"
   ]
  },
  {
   "cell_type": "markdown",
   "metadata": {},
   "source": [
    "# 3. Build model"
   ]
  },
  {
   "cell_type": "code",
   "execution_count": null,
   "metadata": {
    "scrolled": false
   },
   "outputs": [],
   "source": [
    "inception_v3 = tf.keras.applications.InceptionV3(weights='imagenet')\n",
    "\n",
    "feature_extractor = tf.keras.models.Model(\n",
    "    inputs = inception_v3.input,\n",
    "    outputs = inception_v3.layers[-1].input\n",
    ")\n",
    "\n",
    "feature_extractor.trainable = False\n",
    "\n",
    "inputs = inception_v3.input\n",
    "h = feature_extractor(inputs)\n",
    "\n",
    "h = tf.keras.layers.BatchNormalization()(h)\n",
    "h = tf.keras.layers.Dense(128, activation='relu')(h)\n",
    "\n",
    "h = tf.keras.layers.BatchNormalization()(h)\n",
    "outputs = tf.keras.layers.Dense(70, activation='softmax')(h)\n",
    "\n",
    "model = tf.keras.models.Model(inputs=inputs, outputs=outputs)\n",
    "model.compile(optimizer=tf.keras.optimizers.Adam(.001),\n",
    "              loss='categorical_crossentropy', metrics=['accuracy'])"
   ]
  },
  {
   "cell_type": "code",
   "execution_count": null,
   "metadata": {
    "scrolled": true
   },
   "outputs": [],
   "source": [
    "model.summary()"
   ]
  },
  {
   "cell_type": "markdown",
   "metadata": {},
   "source": [
    "# 4. Train model"
   ]
  },
  {
   "cell_type": "code",
   "execution_count": null,
   "metadata": {
    "scrolled": false
   },
   "outputs": [],
   "source": [
    "callbacks = [\n",
    "    tf.keras.callbacks.EarlyStopping(monitor='val_accuracy', patience=5),\n",
    "    tf.keras.callbacks.ReduceLROnPlateau(monitor='val_loss', patience=3, factor=.5)\n",
    "]\n",
    "with tf.device('/gpu:0'):\n",
    "    history = model.fit(train_generator, validation_data=valid_generator, epochs=10, callbacks=callbacks)"
   ]
  },
  {
   "cell_type": "markdown",
   "metadata": {},
   "source": [
    "# 5. Evaluate model performance"
   ]
  },
  {
   "cell_type": "code",
   "execution_count": null,
   "metadata": {},
   "outputs": [],
   "source": [
    "def style_plot(ax, legend=True):\n",
    "    plt.grid(axis='y', **{'color': 'tab:gray', 'linewidth': 1, 'alpha': .25})\n",
    "    plt.tick_params(left=False, bottom=False, axis='y', colors='tab:gray')\n",
    "    plt.xlabel('Epochs', fontsize=12)\n",
    "    plt.yticks(fontsize=12)\n",
    "    if legend:\n",
    "        plt.legend(frameon=True, framealpha=1, facecolor='white', edgecolor='white', fontsize=12)\n",
    "    ax.spines['bottom'].set_color('tab:gray')\n",
    "    \n",
    "plt.figure(figsize=(15, 8))\n",
    "\n",
    "ax = plt.subplot(211)\n",
    "plt.plot(history.history['lr'],  lw=2)\n",
    "plt.title('Learning rate', fontsize=16)\n",
    "style_plot(ax, False)\n",
    "\n",
    "ax = plt.subplot(223)\n",
    "plt.plot(history.history['accuracy'], lw=2, label='Training accuracy')\n",
    "plt.plot(history.history['val_accuracy'], lw=2, label='Validation accuracy')\n",
    "plt.title('Accuracies', fontsize=16)\n",
    "style_plot(ax)\n",
    "\n",
    "ax = plt.subplot(224)\n",
    "plt.plot(history.history['loss'], lw=2, label='Training loss')\n",
    "plt.plot(history.history['val_loss'], lw=2, label='Validation loss')\n",
    "plt.title('Losses', fontsize=16)\n",
    "style_plot(ax)\n",
    "\n",
    "despine(left=True)\n",
    "plt.tight_layout(w_pad=10, h_pad=5)\n",
    "plt.show()"
   ]
  },
  {
   "cell_type": "markdown",
   "metadata": {},
   "source": [
    "# 6. Save model and model history on disk"
   ]
  },
  {
   "cell_type": "code",
   "execution_count": null,
   "metadata": {},
   "outputs": [],
   "source": [
    "model.save('painting_style_reco.h5')"
   ]
  },
  {
   "cell_type": "code",
   "execution_count": null,
   "metadata": {},
   "outputs": [],
   "source": [
    "filepath = os.path.join('model_history.pkl')\n",
    "with open(filepath, 'wb') as f:\n",
    "    pickle.dump(models_history, f)"
   ]
  }
 ],
 "metadata": {
  "kernelspec": {
   "display_name": "Python 3",
   "language": "python",
   "name": "python3"
  },
  "language_info": {
   "codemirror_mode": {
    "name": "ipython",
    "version": 3
   },
   "file_extension": ".py",
   "mimetype": "text/x-python",
   "name": "python",
   "nbconvert_exporter": "python",
   "pygments_lexer": "ipython3",
   "version": "3.7.6"
  }
 },
 "nbformat": 4,
 "nbformat_minor": 4
}
