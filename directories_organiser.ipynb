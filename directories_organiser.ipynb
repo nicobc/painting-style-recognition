{
 "cells": [
  {
   "cell_type": "markdown",
   "metadata": {},
   "source": [
    "# Directories organiser\n",
    "This notebook shows how I set up the directory structure I use to implement the `ImageDataGenerator`s that let me train the model on which my painting style recognition [app](http://www.nicolascontreras.tech/portfolio/painting_reco) is based (cf. modeling notebook)."
   ]
  },
  {
   "cell_type": "markdown",
   "metadata": {},
   "source": [
    "# 1. Imports"
   ]
  },
  {
   "cell_type": "code",
   "execution_count": 1,
   "metadata": {},
   "outputs": [
    {
     "name": "stderr",
     "output_type": "stream",
     "text": [
      "/home/nicolas/.pyenv/versions/3.7.6/envs/vivadata/lib/python3.7/site-packages/tqdm/std.py:668: FutureWarning: The Panel class is removed from pandas. Accessing it from the top-level namespace will also be removed in the next version\n",
      "  from pandas import Panel\n"
     ]
    }
   ],
   "source": [
    "import numpy as np\n",
    "import pandas as pd\n",
    "import os\n",
    "\n",
    "from tqdm.notebook import tqdm\n",
    "tqdm.pandas()\n",
    "\n",
    "from glob import glob"
   ]
  },
  {
   "cell_type": "code",
   "execution_count": 2,
   "metadata": {},
   "outputs": [],
   "source": [
    "def print_shape(df):\n",
    "    print(f'Number of rows:    {df.shape[0]:,}')\n",
    "    print(f'Number of columns: {df.shape[1]}\\n')"
   ]
  },
  {
   "cell_type": "markdown",
   "metadata": {},
   "source": [
    "# 2. Set directories structure"
   ]
  },
  {
   "cell_type": "code",
   "execution_count": 3,
   "metadata": {},
   "outputs": [],
   "source": [
    "DATA_DIR = 'data'\n",
    "\n",
    "train_size = .8\n",
    "\n",
    "IMG_DIR = os.path.join(DATA_DIR, 'img')\n",
    "    \n",
    "TRAIN_DIR = os.path.join(DATA_DIR, 'train')\n",
    "if not os.path.isdir(TRAIN_DIR):\n",
    "    os.mkdir(TRAIN_DIR)\n",
    "\n",
    "VALID_DIR = os.path.join(DATA_DIR, 'valid')\n",
    "if not os.path.isdir(VALID_DIR):\n",
    "    os.mkdir(VALID_DIR)\n",
    "    \n",
    "filenames = [path.split(os.path.sep)[-1] for path in glob(os.path.join(IMG_DIR, '*.jpg'))]\n",
    "filepath = os.path.join(DATA_DIR, 'all_data_info.csv')"
   ]
  },
  {
   "cell_type": "markdown",
   "metadata": {},
   "source": [
    "# 3. Select a subset of images"
   ]
  },
  {
   "cell_type": "code",
   "execution_count": 37,
   "metadata": {},
   "outputs": [
    {
     "name": "stdout",
     "output_type": "stream",
     "text": [
      "Raw DataFrame shape\n",
      "Number of rows:    103,250\n",
      "Number of columns: 12\n",
      "\n",
      "\n",
      "Filtered DataFrame shape\n",
      "Number of rows:    79,433\n",
      "Number of columns: 12\n",
      "\n",
      "\n",
      "Final DataFrame shape\n",
      "Number of rows:    76,317\n",
      "Number of columns: 14\n",
      "\n"
     ]
    }
   ],
   "source": [
    "# Read csv into a pandas.DataFrame\n",
    "df = pd.read_csv(filepath)\n",
    "print('Raw DataFrame shape')\n",
    "print_shape(df)\n",
    "\n",
    "# Filter df\n",
    "print('\\nFiltered DataFrame shape')\n",
    "df = df.loc[df['new_filename'].isin(filenames)]\n",
    "print_shape(df)\n",
    "\n",
    "# Add path & size columns\n",
    "df['path'] = df.loc[:, 'new_filename'].apply(lambda filename: os.path.join(IMG_DIR, filename))\n",
    "df['size'] = df['path'].apply(lambda path: os.path.getsize(path) / 1024 ** 2)\n",
    "\n",
    "# Only keep images with size <= 2MB\n",
    "print('\\nFinal DataFrame shape')\n",
    "df = df.loc[df['size'] <= 2, :]\n",
    "print_shape(df)\n",
    "\n",
    "# Remove \"(text)\" from style\n",
    "df['style'] = df['style'].str.replace(r'\\s\\(.+\\)', '')"
   ]
  },
  {
   "cell_type": "markdown",
   "metadata": {},
   "source": [
    "# 4. Distribute images between train and validation directories"
   ]
  },
  {
   "cell_type": "code",
   "execution_count": 38,
   "metadata": {},
   "outputs": [
    {
     "data": {
      "application/vnd.jupyter.widget-view+json": {
       "model_id": "399b18bc21bf45acae7c96d8168d389e",
       "version_major": 2,
       "version_minor": 0
      },
      "text/plain": [
       "HBox(children=(FloatProgress(value=0.0, max=69.0), HTML(value='')))"
      ]
     },
     "metadata": {},
     "output_type": "display_data"
    },
    {
     "name": "stdout",
     "output_type": "stream",
     "text": [
      "\n",
      "Number of training images         = 27,598\n",
      "Number of validation images       = 6,902\n",
      "Number of images in source folder = 44,933\n"
     ]
    }
   ],
   "source": [
    "# Keep at most 1000 paintings by style, chosen at random,\n",
    "# for each of the main styles\n",
    "    ## Count images / style\n",
    "style_counts = df['style'].value_counts()\n",
    "\n",
    "    ## Keep only styles with at least 100 images\n",
    "styles = style_counts[style_counts >= 100].index.tolist()\n",
    "styles_to_trim = style_counts[style_counts >= 1000].index.tolist()\n",
    "\n",
    "    ## Select 1000 images / style\n",
    "for style in tqdm(styles):\n",
    "    \n",
    "    ## Get filenames\n",
    "    if style in styles_to_trim: # then subset to 1000 images\n",
    "        filenames = np.random.choice(df.loc[df['style'] == style, 'new_filename'].unique(), 1000,\n",
    "                                     replace=False)\n",
    "    else:\n",
    "        filenames = df.loc[df['style'] == style, 'new_filename'].unique()\n",
    "    \n",
    "    ## Shuffle filenames and split them\n",
    "    cut = round(len(filenames) * train_size)\n",
    "    np.random.shuffle(filenames)\n",
    "    train_filenames = filenames[:cut]\n",
    "    valid_filenames = filenames[cut:]\n",
    "    \n",
    "    ## Split filenames between valid and train dirs & subdirs (e.g. train/Impressionism/).\n",
    "    ## This file structure will be useful to set a tensorflow pipeline.\n",
    "    for i in [0, 1]:\n",
    "        \n",
    "        ## Create style-specific directories\n",
    "        style_dir = os.path.join([TRAIN_DIR, VALID_DIR][i], '_'.join(style.split()))\n",
    "        if not os.path.isdir(style_dir):\n",
    "            os.mkdir(style_dir)\n",
    "\n",
    "        ## Move selected images to their destination directories\n",
    "        for filename in [train_filenames, valid_filenames][i]:\n",
    "            src = os.path.join(IMG_DIR, filename)\n",
    "            dst = os.path.join(style_dir, filename)\n",
    "            os.rename(src, dst)\n",
    "\n",
    "print(f\"Number of training images         = {len(glob(os.path.join(TRAIN_DIR, '*', '*.jpg'))):,}\")\n",
    "print(f\"Number of validation images       = {len(glob(os.path.join(VALID_DIR, '*', '*.jpg'))):,}\")\n",
    "print(f\"Number of images in source folder = {len(glob(os.path.join(IMG_DIR, '*.jpg'))):,}\")"
   ]
  },
  {
   "cell_type": "markdown",
   "metadata": {},
   "source": [
    "# 5. Put selected images back into their original directory\n",
    "⚠️ This cell is to be executed after training the model. In doing so, a new train set / validation set pair can be generated to re-train the model."
   ]
  },
  {
   "cell_type": "code",
   "execution_count": 8,
   "metadata": {},
   "outputs": [
    {
     "name": "stdout",
     "output_type": "stream",
     "text": [
      "Number of training images         = 0\n",
      "Number of validation images       = 0\n",
      "Number of images in source folder = 79,433\n"
     ]
    }
   ],
   "source": [
    "# train images\n",
    "for src in glob(os.path.join(TRAIN_DIR, '*', '*.jpg')):\n",
    "    dst = os.path.join(IMG_DIR, src.split('/')[-1])\n",
    "    os.rename(src, dst)\n",
    "\n",
    "# valid images\n",
    "for src in glob(os.path.join(VALID_DIR, '*', '*.jpg')):\n",
    "    dst = os.path.join(IMG_DIR, src.split('/')[-1])\n",
    "    os.rename(src, dst)\n",
    "    \n",
    "print(f\"Number of training images         = {len(glob(os.path.join(TRAIN_DIR, '*', '*.jpg'))):,}\")\n",
    "print(f\"Number of validation images       = {len(glob(os.path.join(VALID_DIR, '*', '*.jpg'))):,}\")\n",
    "print(f\"Number of images in source folder = {len(glob(os.path.join(IMG_DIR, '*.jpg'))):,}\")"
   ]
  }
 ],
 "metadata": {
  "kernelspec": {
   "display_name": "Python 3",
   "language": "python",
   "name": "python3"
  },
  "language_info": {
   "codemirror_mode": {
    "name": "ipython",
    "version": 3
   },
   "file_extension": ".py",
   "mimetype": "text/x-python",
   "name": "python",
   "nbconvert_exporter": "python",
   "pygments_lexer": "ipython3",
   "version": "3.7.6"
  }
 },
 "nbformat": 4,
 "nbformat_minor": 4
}
